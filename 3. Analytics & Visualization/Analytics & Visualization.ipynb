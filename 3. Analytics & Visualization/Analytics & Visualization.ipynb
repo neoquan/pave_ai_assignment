{
 "cells": [
  {
   "cell_type": "markdown",
   "id": "4d579ba3",
   "metadata": {},
   "source": [
    "**SQL Analytics Queries**"
   ]
  },
  {
   "cell_type": "code",
   "execution_count": null,
   "id": "e9689046",
   "metadata": {
    "vscode": {
     "languageId": "sql"
    }
   },
   "outputs": [],
   "source": [
    "--  Top 10 Most Common Damage Types by Vehicle Make\n",
    "\n",
    "SELECT\n",
    "  v.make,\n",
    "  d.damage_type,\n",
    "  COUNT(d.damage_type) AS occurrences\n",
    "FROM damage_reports d\n",
    "JOIN inspections i ON d.inspection_id = i.inspection_id\n",
    "JOIN vehicles v ON i.vehicle_vin = v.vin\n",
    "GROUP BY v.make, d.damage_type\n",
    "ORDER BY occurrences DESC\n",
    "LIMIT 10"
   ]
  },
  {
   "cell_type": "code",
   "execution_count": null,
   "id": "7f1ac23b",
   "metadata": {
    "vscode": {
     "languageId": "sql"
    }
   },
   "outputs": [],
   "source": [
    "-- Inspector Efficiency Metrics (Inspections/Day + Avg Severity)\n",
    "\n",
    "SELECT\n",
    "  ins.inspector_id,\n",
    "  insp.name,\n",
    "  COUNT(DISTINCT ins.inspection_id) AS total_inspections,\n",
    "  COUNT(DISTINCT TO_DATE(ins.inspection_date)) AS active_days,\n",
    "  ROUND(COUNT(DISTINCT ins.inspection_id) / COUNT(DISTINCT TO_DATE(ins.inspection_date)), 2) AS inspections_per_day,\n",
    "  ROUND(AVG(d.severity), 2) AS avg_severity,\n",
    "  ROUND(AVG(d.image_count), 2) AS avg_images_per_report\n",
    "FROM damage_reports d\n",
    "JOIN inspections ins ON d.inspection_id = ins.inspection_id\n",
    "JOIN inspectors insp ON ins.inspector_id = insp.inspector_id\n",
    "GROUP BY ins.inspector_id, insp.name\n",
    "ORDER BY inspections_per_day DESC"
   ]
  },
  {
   "cell_type": "code",
   "execution_count": null,
   "id": "fe673ddb",
   "metadata": {
    "vscode": {
     "languageId": "sql"
    }
   },
   "outputs": [],
   "source": [
    "-- Monthly Trending of Inspection Volume and Damage Costs\n",
    "\n",
    "SELECT\n",
    "  YEAR(ins.inspection_date) AS year,\n",
    "  MONTH(ins.inspection_date) AS month,\n",
    "  COUNT(DISTINCT ins.inspection_id) AS inspections,\n",
    "  COUNT(d.report_id) AS reports,\n",
    "  ROUND(SUM(d.estimated_cost), 2) AS total_cost,\n",
    "  ROUND(AVG(d.estimated_cost), 2) AS avg_cost\n",
    "FROM damage_reports d\n",
    "JOIN inspections ins ON d.inspection_id = ins.inspection_id\n",
    "GROUP BY YEAR(ins.inspection_date), MONTH(ins.inspection_date)\n",
    "ORDER BY year, month"
   ]
  },
  {
   "cell_type": "code",
   "execution_count": null,
   "id": "f0b1b0c8",
   "metadata": {
    "vscode": {
     "languageId": "sql"
    }
   },
   "outputs": [],
   "source": [
    "--  Geographic Heatmap Data for Damage Severity\n",
    "\n",
    "SELECT\n",
    "  ROUND(ins.location_lat, 1) AS lat_bin,\n",
    "  ROUND(ins.location_lon, 1) AS lon_bin,\n",
    "  ROUND(AVG(d.severity), 2) AS avg_severity,\n",
    "  COUNT(*) AS report_count\n",
    "FROM damage_reports d\n",
    "JOIN inspections ins ON d.inspection_id = ins.inspection_id\n",
    "GROUP BY ROUND(ins.location_lat, 1), ROUND(ins.location_lon, 1)\n",
    "ORDER BY avg_severity DESC\n"
   ]
  },
  {
   "cell_type": "markdown",
   "id": "48eae26f",
   "metadata": {},
   "source": [
    "**Real-time Monitoring Queries**"
   ]
  },
  {
   "cell_type": "code",
   "execution_count": null,
   "id": "3fca8d0b",
   "metadata": {
    "vscode": {
     "languageId": "sql"
    }
   },
   "outputs": [],
   "source": [
    "-- Live inspection count (last hour)\n",
    "\n",
    "SELECT COUNT(*) AS live_inspection_count\n",
    "FROM inspections\n",
    "WHERE inspection_date >= NOW() - INTERVAL '1 hour'\n"
   ]
  },
  {
   "cell_type": "code",
   "execution_count": null,
   "id": "0d423a78",
   "metadata": {
    "vscode": {
     "languageId": "sql"
    }
   },
   "outputs": [],
   "source": [
    "-- Queue depth by region\n",
    "\n",
    "\n",
    "SELECT \n",
    "  FLOOR(location_lat) AS lat_bucket,\n",
    "  FLOOR(location_lon) AS lon_bucket,\n",
    "  COUNT(*) AS queue_depth\n",
    "FROM inspections\n",
    "WHERE status in ('in_progress', 'pending_review')\n",
    "GROUP BY FLOOR(location_lat), FLOOR(location_lon)\n"
   ]
  },
  {
   "cell_type": "code",
   "execution_count": null,
   "id": "75518f85",
   "metadata": {
    "vscode": {
     "languageId": "sql"
    }
   },
   "outputs": [],
   "source": [
    "-- Failed inspection alerts\n",
    "\n",
    "SELECT *\n",
    "FROM inspections\n",
    "WHERE status = 'failed'\n",
    "AND inspection_date >= NOW() - INTERVAL '1 hour';\n"
   ]
  }
 ],
 "metadata": {
  "kernelspec": {
   "display_name": "base",
   "language": "python",
   "name": "python3"
  },
  "language_info": {
   "codemirror_mode": {
    "name": "ipython",
    "version": 3
   },
   "file_extension": ".py",
   "mimetype": "text/x-python",
   "name": "python",
   "nbconvert_exporter": "python",
   "pygments_lexer": "ipython3",
   "version": "3.11.5"
  }
 },
 "nbformat": 4,
 "nbformat_minor": 5
}
